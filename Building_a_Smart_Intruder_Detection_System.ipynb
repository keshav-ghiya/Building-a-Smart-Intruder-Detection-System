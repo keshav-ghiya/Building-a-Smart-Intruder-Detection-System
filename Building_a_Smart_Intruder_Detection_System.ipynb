{
  "nbformat": 4,
  "nbformat_minor": 0,
  "metadata": {
    "kernelspec": {
      "display_name": "Python 3",
      "language": "python",
      "name": "python3"
    },
    "language_info": {
      "codemirror_mode": {
        "name": "ipython",
        "version": 3
      },
      "file_extension": ".py",
      "mimetype": "text/x-python",
      "name": "python",
      "nbconvert_exporter": "python",
      "pygments_lexer": "ipython3",
      "version": "3.7.6"
    },
    "colab": {
      "name": "Building a Smart Intruder Detection System.ipynb",
      "provenance": []
    }
  },
  "cells": [
    {
      "cell_type": "markdown",
      "metadata": {
        "id": "ut6tWZjuo01w"
      },
      "source": [
        "# <center><font style=\"color:rgb(224,100,180)\"> Building a Smart Intruder Detection Surveillance System with OpenCV and your Phone  </font> </center>"
      ]
    },
    {
      "cell_type": "code",
      "metadata": {
        "id": "bckcVvTko013"
      },
      "source": [
        "# Importing the required libraries\n",
        "import numpy as np\n",
        "import cv2\n",
        "import time\n",
        "import datetime\n",
        "from collections import deque"
      ],
      "execution_count": null,
      "outputs": []
    },
    {
      "cell_type": "markdown",
      "metadata": {
        "id": "Z9wsM0Mvo017"
      },
      "source": [
        "## Reading from your Phone's IP Camera"
      ]
    },
    {
      "cell_type": "code",
      "metadata": {
        "id": "3GjUlIWgo018"
      },
      "source": [
        "# Setting Window normal so we can resize it\n",
        "cv2.namedWindow('frame', cv2.WINDOW_NORMAL)\n",
        "\n",
        "# Calculating the starting time\n",
        "start_time = time.time()\n",
        "\n",
        "# Initializing variables for calculating FPS\n",
        "fps = 0 \n",
        "frame_counter = 0\n",
        "\n",
        "# Reading the video steram from the ip camera\n",
        "cap = cv2.VideoCapture('http://192.168.18.4:8080/video')\n",
        "\n",
        "while(True):\n",
        "    \n",
        "    ret, frame = cap.read()\n",
        "    if not ret:\n",
        "        break \n",
        "    \n",
        "    # Calculating the Average FPS\n",
        "    frame_counter += 1\n",
        "    fps = (frame_counter / (time.time() - start_time))\n",
        "    \n",
        "    \n",
        "    cv2.putText(frame, 'FPS: {:.2f}'.format(fps), (20, 20), cv2.FONT_HERSHEY_SIMPLEX, 0.6, (0, 0, 255),1)\n",
        "    \n",
        "    \n",
        "    cv2.imshow('frame',frame)\n",
        "    \n",
        "    # Exit if q is pressed.\n",
        "    if cv2.waitKey(1) == ord('q'):\n",
        "        break\n",
        "\n",
        "cap.release()\n",
        "cv2.destroyAllWindows()"
      ],
      "execution_count": null,
      "outputs": []
    },
    {
      "cell_type": "markdown",
      "metadata": {
        "id": "TeCjfZA9o01-"
      },
      "source": [
        "## Sending message with Twilio API"
      ]
    },
    {
      "cell_type": "code",
      "metadata": {
        "id": "o6RZnddUo01-"
      },
      "source": [
        "from twilio.rest import Client\n",
        "\n",
        "# Reading text from the credentials file and store in data variable\n",
        "with open('credentials.txt', 'r') as myfile:\n",
        "  data = myfile.read()\n",
        "\n",
        "info_dict = eval(data)\n",
        "\n",
        "# Account SID \n",
        "account_sid = info_dict['account_sid']\n",
        "\n",
        "# Auth Token\n",
        "auth_token  = info_dict['auth_token']\n",
        "\n",
        "# Set client and send the message\n",
        "client = Client(account_sid, auth_token)\n",
        "message = client.messages.create( to =info_dict['your_num'], from_ = info_dict['trial_num'], body= \"What's Up Man\")"
      ],
      "execution_count": null,
      "outputs": []
    },
    {
      "cell_type": "markdown",
      "metadata": {
        "id": "iJkKj6qVo02A"
      },
      "source": [
        "## Background Subtraction"
      ]
    },
    {
      "cell_type": "code",
      "metadata": {
        "id": "jT4uXDvpo02B"
      },
      "source": [
        "cap = cv2.VideoCapture('http://192.168.18.4:8080/video')\n",
        "\n",
        "# Creating the background subtractor object\n",
        "foog = cv2.createBackgroundSubtractorMOG2( detectShadows = True, varThreshold = 50, history = 2800)\n",
        "\n",
        "while(1):\n",
        "    \n",
        "    ret, frame = cap.read() \n",
        "    if not ret:\n",
        "        break\n",
        "        \n",
        "    # Applying the background object on each frame\n",
        "    fgmask = foog.apply(frame)\n",
        "    \n",
        "    # Getting rid of the shadows\n",
        "    ret, fgmask = cv2.threshold(fgmask, 250, 255, cv2.THRESH_BINARY)\n",
        "    \n",
        "    cv2.imshow('All three',fgmask)\n",
        "    k = cv2.waitKey(10)\n",
        "    if k == 27: \n",
        "        break\n",
        "\n",
        "cap.release()\n",
        "cv2.destroyAllWindows()"
      ],
      "execution_count": null,
      "outputs": []
    },
    {
      "cell_type": "markdown",
      "metadata": {
        "id": "1769khn6o02C"
      },
      "source": [
        "## Contour Detection with Background Subtraction"
      ]
    },
    {
      "cell_type": "code",
      "metadata": {
        "id": "-0UUSmdUo02E"
      },
      "source": [
        "cap = cv2.VideoCapture('http://192.168.18.4:8080/video')\n",
        "\n",
        "# set custom kernel size\n",
        "kernel= None\n",
        "\n",
        "# initilize background subtractor object\n",
        "foog = cv2.createBackgroundSubtractorMOG2( detectShadows = True, varThreshold = 50, history = 2800)\n",
        "\n",
        "# Noise filter threshold\n",
        "thresh = 1100\n",
        "\n",
        "while(1):\n",
        "    ret, frame = cap.read()\n",
        "    if not ret:\n",
        "        break\n",
        "        \n",
        "    # Apply background subtraction\n",
        "    fgmask = foog.apply(frame)\n",
        "    \n",
        "    # Get rid of the shadows\n",
        "    ret, fgmask = cv2.threshold(fgmask, 250, 255, cv2.THRESH_BINARY)\n",
        "    \n",
        "    # Applying morphological operations\n",
        "    fgmask = cv2.erode(fgmask,kernel,iterations = 1)\n",
        "    fgmask = cv2.dilate(fgmask,kernel,iterations = 4)\n",
        "    \n",
        "    # Detecting contours in the frame\n",
        "    contours, hierarchy = cv2.findContours(fgmask,cv2.RETR_EXTERNAL,cv2.CHAIN_APPROX_SIMPLE)\n",
        "    \n",
        "    if contours:\n",
        "        \n",
        "        # Take the maximum contour\n",
        "        cnt = max(contours, key = cv2.contourArea)\n",
        "\n",
        "\n",
        "        # make sure the contour area is somewhat hihger than some threshold to make sure its a person and not some noise.\n",
        "        if cv2.contourArea(cnt) > thresh:\n",
        "\n",
        "            # Draw a box around the person and label it as person detected\n",
        "            x,y,w,h = cv2.boundingRect(cnt)\n",
        "            cv2.rectangle(frame,(x ,y),(x+w,y+h),(0,0,255),2)\n",
        "            cv2.putText(frame,'Person Detected',(x,y-10), cv2.FONT_HERSHEY_SIMPLEX, 0.3, (0,255,0), 1, cv2.LINE_AA)\n",
        "\n",
        " \n",
        "    # Stacking both frames\n",
        "    fgmask_3 = cv2.cvtColor(fgmask, cv2.COLOR_GRAY2BGR)\n",
        "    stacked = np.hstack((fgmask_3,frame))\n",
        "    cv2.imshow('Combined',cv2.resize(stacked,None,fx=0.65,fy=0.65))\n",
        "\n",
        "    k = cv2.waitKey(40) & 0xff\n",
        "    if k == ord('q'):\n",
        "        break\n",
        "\n",
        "cap.release()\n",
        "cv2.destroyAllWindows()"
      ],
      "execution_count": null,
      "outputs": []
    },
    {
      "cell_type": "markdown",
      "metadata": {
        "id": "V3C6Chw3o02F"
      },
      "source": [
        "## Function for sending message via Twilio"
      ]
    },
    {
      "cell_type": "code",
      "metadata": {
        "id": "2OmyHbCCo02G"
      },
      "source": [
        "def send_message(body, info_dict):\n",
        "\n",
        "    # Account SID from twilio\n",
        "    account_sid = info_dict['account_sid']\n",
        "\n",
        "    # Auth Token from twilio\n",
        "    auth_token  = info_dict['auth_token']\n",
        "\n",
        "\n",
        "    client = Client(account_sid, auth_token)\n",
        "\n",
        "    message = client.messages.create( to = info_dict['your_num'], from_ = info_dict['trial_num'], body= body)"
      ],
      "execution_count": null,
      "outputs": []
    },
    {
      "cell_type": "markdown",
      "metadata": {
        "id": "nsEBJSdmo02H"
      },
      "source": [
        "## Function for detecting if a person is present or not"
      ]
    },
    {
      "cell_type": "code",
      "metadata": {
        "id": "HCOEc3KHo02H"
      },
      "source": [
        "def is_person_present(frame, thresh=1100):\n",
        "    \n",
        "    global foog\n",
        "    \n",
        "    # Applying background subtraction\n",
        "    fgmask = foog.apply(frame)\n",
        "\n",
        "    # Getting rid of the shadows\n",
        "    ret, fgmask = cv2.threshold(fgmask, 250, 255, cv2.THRESH_BINARY)\n",
        "\n",
        "    # Apply some morphological operations to make sure we have a good mask\n",
        "    fgmask = cv2.dilate(fgmask,kernel,iterations = 4)\n",
        "\n",
        "    # Detect contours in the frame\n",
        "    contours, hierarchy = cv2.findContours(fgmask,cv2.RETR_EXTERNAL,cv2.CHAIN_APPROX_SIMPLE)\n",
        "     \n",
        "    # Checking if there was a contour and the area value is somewhat higher than some threshold so we know its a person and not noise\n",
        "    if contours and cv2.contourArea(max(contours, key = cv2.contourArea)) > thresh:\n",
        "            \n",
        "            # Get the maximum contour\n",
        "            cnt = max(contours, key = cv2.contourArea)\n",
        "\n",
        "            # Drawing a bounding box around the person and label it as person detected\n",
        "            x,y,w,h = cv2.boundingRect(cnt)\n",
        "            cv2.rectangle(frame,(x ,y),(x+w,y+h),(0,0,255),2)\n",
        "            cv2.putText(frame,'Person Detected',(x,y-10), cv2.FONT_HERSHEY_SIMPLEX, 0.3, (0,255,0), 1, cv2.LINE_AA)\n",
        "            \n",
        "            return True, frame\n",
        "        \n",
        "        \n",
        "    # Otherwise report there was no one present\n",
        "    else:\n",
        "        return False, frame"
      ],
      "execution_count": null,
      "outputs": []
    },
    {
      "cell_type": "markdown",
      "metadata": {
        "id": "vrLZr1gDo02I"
      },
      "source": [
        "## Final Application"
      ]
    },
    {
      "cell_type": "code",
      "metadata": {
        "id": "PabMlkeao02I"
      },
      "source": [
        "#time.sleep(15)\n",
        "\n",
        "# Set Window normal so we can resize it\n",
        "cv2.namedWindow('frame', cv2.WINDOW_NORMAL)\n",
        "\n",
        "# video\n",
        "cap = cv2.VideoCapture('sample_video.mp4')\n",
        "\n",
        "# Read the video steram from the camera\n",
        "#cap = cv2.VideoCapture('http://192.168.18.4:8080/video')\n",
        "\n",
        "# Get width and height of the frame\n",
        "width = int(cap.get(3))\n",
        "height = int(cap.get(4))\n",
        "\n",
        "# Read and store the credentials information in a dict\n",
        "with open('credentials.txt', 'r') as myfile:\n",
        "  data = myfile.read()\n",
        "\n",
        "info_dict = eval(data)\n",
        "\n",
        "# Initialize the background Subtractor\n",
        "foog = cv2.createBackgroundSubtractorMOG2( detectShadows = True, varThreshold = 100, history = 2000)\n",
        "\n",
        "# Status is True when person is present and False when the person is not present.\n",
        "status = False\n",
        "\n",
        "# After the person disapears from view, wait atleast 7 seconds before making the status False\n",
        "patience = 7\n",
        "\n",
        "# We don't consider an initial detection unless its detected 15 times, this gets rid of false positives\n",
        "detection_thresh = 15\n",
        "\n",
        "# Initial time for calculating if patience time is up\n",
        "initial_time = None\n",
        "\n",
        "# We are creating a deque object of length detection_thresh and will store individual detection statuses here\n",
        "de = deque([False] * detection_thresh, maxlen=detection_thresh)\n",
        "\n",
        "# Initialize these variables for calculating FPS\n",
        "fps = 0 \n",
        "frame_counter = 0\n",
        "start_time = time.time()\n",
        "\n",
        "\n",
        "while(True):\n",
        "    \n",
        "    ret, frame = cap.read()\n",
        "    if not ret:\n",
        "        break \n",
        "            \n",
        "    # This function will return a boolean variable telling if someone was present or not, it will also draw boxes if it \n",
        "    # finds someone\n",
        "    detected, annotated_image = is_person_present(frame)  \n",
        "    \n",
        "    # Register the current detection status on our deque object\n",
        "    de.appendleft(detected)\n",
        "     \n",
        "    # If we consectutively detected a person 15 times then we are sure that someone is present    \n",
        "    # We also make this is the first time that this person has been detected so we only initialize the videowriter once\n",
        "    if sum(de) == detection_thresh and not status:                       \n",
        "            status = True\n",
        "            entry_time = datetime.datetime.now().strftime(\"%A, %I-%M-%S %p %d %B %Y\")\n",
        "            out = cv2.VideoWriter('outputs/{}.mp4'.format(entry_time), cv2.VideoWriter_fourcc(*'XVID'), 15.0, (width, height))\n",
        "\n",
        "    # If status is True but the person is not in the current frame\n",
        "    if status and not detected:\n",
        "        \n",
        "        # Restart the patience timer only if the person has not been detected for a few frames so that we are sure that it was not a \n",
        "        # False positive\n",
        "        if sum(de) > (detection_thresh/2): \n",
        "            \n",
        "            if initial_time is None:\n",
        "                initial_time = time.time()\n",
        "            \n",
        "        elif initial_time is not None:        \n",
        "            \n",
        "            # If the patience has run out and the person is still not detected then set the status to False\n",
        "            # Also save the video by releasing the video writer and send a text message.\n",
        "            if  time.time() - initial_time >= patience:\n",
        "                status = False\n",
        "                exit_time = datetime.datetime.now().strftime(\"%A, %I:%M:%S %p %d %B %Y\")\n",
        "                out.release()\n",
        "                initial_time = None\n",
        "            \n",
        "                body = \"Alert: \\n A Person Entered the Room at {} \\n Left the room at {}\".format(entry_time, exit_time)\n",
        "                send_message(body, info_dict)\n",
        "    \n",
        "    # If significant amount of detections (more than half of detection_thresh) has occured then reset the Initial Time.\n",
        "    elif status and sum(de) > (detection_thresh/2):\n",
        "        initial_time = None\n",
        "    \n",
        "    # Get the current time in the required format\n",
        "    current_time = datetime.datetime.now().strftime(\"%A, %I:%M:%S %p %d %B %Y\")\n",
        "\n",
        "    # Display the FPS\n",
        "    cv2.putText(annotated_image, 'FPS: {:.2f}'.format(fps), (510, 450), cv2.FONT_HERSHEY_COMPLEX, 0.6, (255, 40, 155),2)\n",
        "    \n",
        "    # Display Time\n",
        "    cv2.putText(annotated_image, current_time, (310, 20), cv2.FONT_HERSHEY_COMPLEX, 0.5, (0, 0, 255),1)    \n",
        "    \n",
        "    # Display the Room Status\n",
        "    cv2.putText(annotated_image, 'Room Occupied: {}'.format(str(status)), (10, 20), cv2.FONT_HERSHEY_SIMPLEX, 0.6, \n",
        "                (200, 10, 150),2)\n",
        "\n",
        "    # Show the patience Value\n",
        "    if initial_time is None:\n",
        "        text = 'Patience: {}'.format(patience)\n",
        "    else: \n",
        "        text = 'Patience: {:.2f}'.format(max(0, patience - (time.time() - initial_time)))\n",
        "        \n",
        "    cv2.putText(annotated_image, text, (10, 450), cv2.FONT_HERSHEY_COMPLEX, 0.6, (255, 40, 155) , 2)   \n",
        "\n",
        "    # If status is true save the frame\n",
        "    if status:\n",
        "        out.write(annotated_image)\n",
        " \n",
        "  \n",
        "    cv2.imshow('frame',frame)\n",
        "    \n",
        "    # Calculate the Average FPS\n",
        "    frame_counter += 1\n",
        "    fps = (frame_counter / (time.time() - start_time))\n",
        "    \n",
        "    \n",
        "    # Exit if q is pressed.\n",
        "    if cv2.waitKey(30) == ord('q'):\n",
        "        break\n",
        "\n",
        "\n",
        "cap.release()\n",
        "cv2.destroyAllWindows()\n",
        "out.release()"
      ],
      "execution_count": null,
      "outputs": []
    },
    {
      "cell_type": "markdown",
      "metadata": {
        "id": "1ruYyIJNo02K"
      },
      "source": [
        "## Sample Script for recording Testing videos"
      ]
    },
    {
      "cell_type": "code",
      "metadata": {
        "id": "w4_6r5d6o02K"
      },
      "source": [
        "import numpy as np\n",
        "import cv2\n",
        "\n",
        "cap = cv2.VideoCapture('http://192.168.18.4:8080/video')\n",
        "\n",
        "fourcc = cv2.VideoWriter_fourcc(*'XVID')\n",
        "width = int(cap.get(3))\n",
        "height = int(cap.get(4))\n",
        "\n",
        "\n",
        "out = cv2.VideoWriter(r'sampletestnew2.mp4',fourcc, 15.0, (width, height))\n",
        "\n",
        "while(True):\n",
        "    ret, frame = cap.read()\n",
        "    if not ret:\n",
        "        break\n",
        "\n",
        "    out.write(frame)\n",
        "\n",
        "    cv2.imshow('frame',frame)\n",
        "    if cv2.waitKey(1) & 0xFF == ord('q'):\n",
        "        break\n",
        "    \n",
        "out.release()\n",
        "cap.release()\n",
        "cv2.destroyAllWindows()"
      ],
      "execution_count": null,
      "outputs": []
    }
  ]
}